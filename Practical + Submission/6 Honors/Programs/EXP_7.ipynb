{
 "cells": [
  {
   "cell_type": "markdown",
   "id": "4fbfc77d",
   "metadata": {},
   "source": [
    "Write a Python program to perform data analysis using Groupby"
   ]
  },
  {
   "cell_type": "code",
   "execution_count": 5,
   "id": "1bd4412e",
   "metadata": {},
   "outputs": [
    {
     "name": "stdout",
     "output_type": "stream",
     "text": [
      "      Team  Rank  Year  Points\n",
      "0   Riders     1  2014     876\n",
      "1   Riders     2  2015     789\n",
      "2   Devils     2  2014     863\n",
      "3   Devils     3  2015     673\n",
      "4    Kings     3  2014     741\n",
      "5    kings     4  2015     812\n",
      "6    Kings     1  2016     756\n",
      "7    Kings     1  2017     788\n",
      "8   Riders     2  2016     694\n",
      "9   Royals     4  2014     701\n",
      "10  Royals     1  2015     804\n",
      "11  Riders     2  2017     690\n"
     ]
    }
   ],
   "source": [
    "import pandas as pd \n",
    "\n",
    " \n",
    "\n",
    "ipl_data = {'Team': ['Riders', 'Riders', 'Devils', 'Devils', 'Kings',    'kings', 'Kings', 'Kings', 'Riders', 'Royals', 'Royals', 'Riders'], \n",
    "\n",
    "   'Rank': [1, 2, 2, 3, 3,4 ,1 ,1,2 , 4,1,2], \n",
    "\n",
    "   'Year':  [2014,2015,2014,2015,2014,2015,2016,2017,2016,2014,2015,2017], \n",
    "\n",
    "   'Points':[876,789,863,673,741,812,756,788,694,701,804,690]} \n",
    "\n",
    "df = pd.DataFrame(ipl_data) \n",
    "\n",
    " \n",
    "\n",
    "print (df) "
   ]
  },
  {
   "cell_type": "code",
   "execution_count": 6,
   "id": "a98ae3ea",
   "metadata": {},
   "outputs": [
    {
     "name": "stdout",
     "output_type": "stream",
     "text": [
      "<pandas.core.groupby.generic.DataFrameGroupBy object at 0x0000020019793820>\n"
     ]
    }
   ],
   "source": [
    "#grouping objects can be applied to the DataFrame object \n",
    "\n",
    "print (df.groupby('Team'))"
   ]
  },
  {
   "cell_type": "code",
   "execution_count": 8,
   "id": "c9cb6f04",
   "metadata": {},
   "outputs": [
    {
     "name": "stdout",
     "output_type": "stream",
     "text": [
      "{'Devils': [2, 3], 'Kings': [4, 6, 7], 'Riders': [0, 1, 8, 11], 'Royals': [9, 10], 'kings': [5]}\n"
     ]
    }
   ],
   "source": [
    "#View Groups \n",
    "\n",
    "print (df.groupby('Team').groups)"
   ]
  },
  {
   "cell_type": "code",
   "execution_count": 9,
   "id": "15aaa320",
   "metadata": {},
   "outputs": [
    {
     "name": "stdout",
     "output_type": "stream",
     "text": [
      "{('Devils', 2014): [2], ('Devils', 2015): [3], ('Kings', 2014): [4], ('Kings', 2016): [6], ('Kings', 2017): [7], ('Riders', 2014): [0], ('Riders', 2015): [1], ('Riders', 2016): [8], ('Riders', 2017): [11], ('Royals', 2014): [9], ('Royals', 2015): [10], ('kings', 2015): [5]}\n"
     ]
    }
   ],
   "source": [
    "#Group by with multiple columns – \n",
    "\n",
    "print (df.groupby(['Team','Year']).groups) "
   ]
  },
  {
   "cell_type": "code",
   "execution_count": 12,
   "id": "76bfa851",
   "metadata": {},
   "outputs": [
    {
     "name": "stdout",
     "output_type": "stream",
     "text": [
      "2014\n",
      "     Team  Rank  Year  Points\n",
      "0  Riders     1  2014     876\n",
      "2  Devils     2  2014     863\n",
      "4   Kings     3  2014     741\n",
      "9  Royals     4  2014     701\n",
      "2015\n",
      "      Team  Rank  Year  Points\n",
      "1   Riders     2  2015     789\n",
      "3   Devils     3  2015     673\n",
      "5    kings     4  2015     812\n",
      "10  Royals     1  2015     804\n",
      "2016\n",
      "     Team  Rank  Year  Points\n",
      "6   Kings     1  2016     756\n",
      "8  Riders     2  2016     694\n",
      "2017\n",
      "      Team  Rank  Year  Points\n",
      "7    Kings     1  2017     788\n",
      "11  Riders     2  2017     690\n",
      "     Team  Rank  Year  Points\n",
      "0  Riders     1  2014     876\n",
      "2  Devils     2  2014     863\n",
      "4   Kings     3  2014     741\n",
      "9  Royals     4  2014     701\n"
     ]
    }
   ],
   "source": [
    "#Iterating through Groups \n",
    "\n",
    "#With the groupby object in hand, we can iterate through the object similar to itertools.obj. \n",
    "\n",
    "grouped = df.groupby('Year') \n",
    "\n",
    " \n",
    "\n",
    "for name,group in grouped: \n",
    "\n",
    "   print (name) \n",
    "\n",
    "   print (group) \n",
    "\n",
    " \n",
    "\n",
    "#Select a Group \n",
    "\n",
    "#Using the get_group() method, we can select a single group. \n",
    "\n",
    "grouped = df.groupby('Year') \n",
    "\n",
    "print (grouped.get_group(2014) )"
   ]
  },
  {
   "cell_type": "code",
   "execution_count": 15,
   "id": "3e322ad7",
   "metadata": {},
   "outputs": [
    {
     "name": "stdout",
     "output_type": "stream",
     "text": [
      "Year\n",
      "2014    795.25\n",
      "2015    769.50\n",
      "2016    725.00\n",
      "2017    739.00\n",
      "Name: Points, dtype: float64\n"
     ]
    }
   ],
   "source": [
    "#Aggregations \n",
    "\n",
    "#An aggregated function returns a single aggregated value for each group. Once the group by object is created, several aggregation operations can be performed on the grouped data \n",
    "\n",
    "#Aggregation via the aggregate or equivalent agg method – \n",
    "\n",
    "import numpy as np\n",
    "\n",
    "grouped = df.groupby('Year') \n",
    "\n",
    "print (grouped['Points'].agg(np.mean)) "
   ]
  },
  {
   "cell_type": "code",
   "execution_count": 16,
   "id": "c25ca243",
   "metadata": {},
   "outputs": [
    {
     "name": "stdout",
     "output_type": "stream",
     "text": [
      "        Rank  Year  Points\n",
      "Team                      \n",
      "Devils     2     2       2\n",
      "Kings      3     3       3\n",
      "Riders     4     4       4\n",
      "Royals     2     2       2\n",
      "kings      1     1       1\n"
     ]
    }
   ],
   "source": [
    "#see the size of each group is by applying the size() function – \n",
    "\n",
    " \n",
    "\n",
    "grouped = df.groupby('Team') \n",
    "\n",
    "print (grouped.agg(np.size)) "
   ]
  },
  {
   "cell_type": "code",
   "execution_count": 17,
   "id": "5e8744eb",
   "metadata": {},
   "outputs": [
    {
     "name": "stdout",
     "output_type": "stream",
     "text": [
      "         sum        mean         std\n",
      "Team                                \n",
      "Devils  1536  768.000000  134.350288\n",
      "Kings   2285  761.666667   24.006943\n",
      "Riders  3049  762.250000   88.567771\n",
      "Royals  1505  752.500000   72.831998\n",
      "kings    812  812.000000         NaN\n"
     ]
    }
   ],
   "source": [
    "#Applying Multiple Aggregation Functions at Once \n",
    "\n",
    "#With grouped Series, you can also pass a list or dict of functions to do aggregation with, and generate DataFrame as output \n",
    "\n",
    "grouped = df.groupby('Team') \n",
    "\n",
    "print (grouped['Points'].agg([np.sum, np.mean, np.std]))"
   ]
  },
  {
   "cell_type": "code",
   "execution_count": 18,
   "id": "fb7c6636",
   "metadata": {},
   "outputs": [
    {
     "name": "stdout",
     "output_type": "stream",
     "text": [
      "         Rank       Year     Points\n",
      "0  -15.000000 -11.618950  12.843272\n",
      "1    5.000000  -3.872983   3.020286\n",
      "2   -7.071068  -7.071068   7.071068\n",
      "3    7.071068   7.071068  -7.071068\n",
      "4   11.547005 -10.910895  -8.608621\n",
      "5         NaN        NaN        NaN\n",
      "6   -5.773503   2.182179  -2.360428\n",
      "7   -5.773503   8.728716  10.969049\n",
      "8    5.000000   3.872983  -7.705963\n",
      "9    7.071068  -7.071068  -7.071068\n",
      "10  -7.071068   7.071068   7.071068\n",
      "11   5.000000  11.618950  -8.157595\n"
     ]
    }
   ],
   "source": [
    "#Transformations \n",
    "\n",
    "#Transformation on a group or a column returns an object that is indexed the same size of that is being grouped. Thus, the transform should return a result that is the same size as that of a group chunk \n",
    "\n",
    "grouped = df.groupby('Team') \n",
    "\n",
    "score = lambda x: (x - x.mean()) / x.std()*10 \n",
    "\n",
    "print (grouped.transform(score)) "
   ]
  },
  {
   "cell_type": "code",
   "execution_count": 20,
   "id": "40bdbbe6",
   "metadata": {},
   "outputs": [
    {
     "name": "stdout",
     "output_type": "stream",
     "text": [
      "      Team  Rank  Year  Points\n",
      "0   Riders     1  2014     876\n",
      "1   Riders     2  2015     789\n",
      "4    Kings     3  2014     741\n",
      "6    Kings     1  2016     756\n",
      "7    Kings     1  2017     788\n",
      "8   Riders     2  2016     694\n",
      "11  Riders     2  2017     690\n"
     ]
    }
   ],
   "source": [
    "#Filtration \n",
    "\n",
    "#Filtration filters the data on a defined criteria and returns the subset of data. The filter() function is used to filter the data. \n",
    "\n",
    "print( df.groupby('Team').filter(lambda x: len(x) >= 3)) "
   ]
  },
  {
   "cell_type": "code",
   "execution_count": null,
   "id": "6380f197",
   "metadata": {},
   "outputs": [],
   "source": []
  }
 ],
 "metadata": {
  "kernelspec": {
   "display_name": "Python 3",
   "language": "python",
   "name": "python3"
  },
  "language_info": {
   "codemirror_mode": {
    "name": "ipython",
    "version": 3
   },
   "file_extension": ".py",
   "mimetype": "text/x-python",
   "name": "python",
   "nbconvert_exporter": "python",
   "pygments_lexer": "ipython3",
   "version": "3.8.8"
  }
 },
 "nbformat": 4,
 "nbformat_minor": 5
}
